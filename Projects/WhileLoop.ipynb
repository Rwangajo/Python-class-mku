{
 "cells": [
  {
   "cell_type": "code",
   "execution_count": 11,
   "id": "9cacf1bb",
   "metadata": {},
   "outputs": [
    {
     "name": "stdout",
     "output_type": "stream",
     "text": [
      "Please enter your name\n",
      "your name\n",
      "Thank you\n"
     ]
    }
   ],
   "source": [
    "while True:\n",
    "    print('Please enter your name')\n",
    "    name=input()\n",
    "    if name=='your name':\n",
    "        break\n",
    "print('Thank you')\n"
   ]
  },
  {
   "cell_type": "code",
   "execution_count": 10,
   "id": "1991d50b",
   "metadata": {},
   "outputs": [
    {
     "name": "stdout",
     "output_type": "stream",
     "text": [
      "I am a spam\n",
      "I am a spam\n",
      "I am a spam\n",
      "I am a spam\n",
      "I am a spam\n"
     ]
    }
   ],
   "source": [
    "spam=0\n",
    "\n",
    "while spam<5:\n",
    "    print(\"I am a spam\")\n",
    "    spam=spam+1"
   ]
  },
  {
   "cell_type": "code",
   "execution_count": 22,
   "id": "1b9b6d5b",
   "metadata": {},
   "outputs": [
    {
     "name": "stderr",
     "output_type": "stream",
     "text": [
      "C:\\Users\\Student\\AppData\\Local\\Temp\\ipykernel_5380\\737008371.py:3: VisibleDeprecationWarning: Creating an ndarray from ragged nested sequences (which is a list-or-tuple of lists-or-tuples-or ndarrays with different lengths or shapes) is deprecated. If you meant to do this, you must specify 'dtype=object' when creating the ndarray.\n",
      "  a=np.array([[1,78,7,65,45,34],[45,67,89,78,67]])\n"
     ]
    },
    {
     "data": {
      "text/plain": [
       "array([list([1, 78, 7, 65, 45, 34]), list([45, 67, 89, 78, 67])],\n",
       "      dtype=object)"
      ]
     },
     "execution_count": 22,
     "metadata": {},
     "output_type": "execute_result"
    }
   ],
   "source": [
    "import numpy as np\n",
    "\n",
    "a=np.array([[1,78,7,65,45,34],[45,67,89,78,67]])\n",
    "a"
   ]
  },
  {
   "cell_type": "code",
   "execution_count": 21,
   "id": "ec4d51ab",
   "metadata": {},
   "outputs": [
    {
     "data": {
      "text/plain": [
       "array([     0,      1,      2, ..., 999997, 999998, 999999])"
      ]
     },
     "execution_count": 21,
     "metadata": {},
     "output_type": "execute_result"
    }
   ],
   "source": [
    "my_arr = np.arange(1_000_000)\n",
    "my_list = list(range(1_000_000))\n",
    "my_arr\n"
   ]
  },
  {
   "cell_type": "code",
   "execution_count": 23,
   "id": "59afc98b",
   "metadata": {},
   "outputs": [
    {
     "name": "stdout",
     "output_type": "stream",
     "text": [
      "6.95 ms ± 1.67 ms per loop (mean ± std. dev. of 7 runs, 100 loops each)\n"
     ]
    }
   ],
   "source": [
    "%timeit my_arr2=my_arr*2"
   ]
  },
  {
   "cell_type": "code",
   "execution_count": 25,
   "id": "e60b78a5",
   "metadata": {},
   "outputs": [
    {
     "name": "stdout",
     "output_type": "stream",
     "text": [
      "175 ms ± 12.8 ms per loop (mean ± std. dev. of 7 runs, 1 loop each)\n"
     ]
    }
   ],
   "source": [
    " %timeit my_list2 = [x * 2 for x in my_list]"
   ]
  },
  {
   "cell_type": "code",
   "execution_count": null,
   "id": "14cdf8f5",
   "metadata": {},
   "outputs": [],
   "source": []
  }
 ],
 "metadata": {
  "kernelspec": {
   "display_name": "Python 3 (ipykernel)",
   "language": "python",
   "name": "python3"
  },
  "language_info": {
   "codemirror_mode": {
    "name": "ipython",
    "version": 3
   },
   "file_extension": ".py",
   "mimetype": "text/x-python",
   "name": "python",
   "nbconvert_exporter": "python",
   "pygments_lexer": "ipython3",
   "version": "3.9.13"
  }
 },
 "nbformat": 4,
 "nbformat_minor": 5
}
