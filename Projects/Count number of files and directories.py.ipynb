{
 "cells": [
  {
   "cell_type": "code",
   "execution_count": 3,
   "id": "86bfd395",
   "metadata": {},
   "outputs": [
    {
     "name": "stdout",
     "output_type": "stream",
     "text": [
      "Number of files 0\n",
      "Number of Directories 0\n",
      "Total: 0\n"
     ]
    }
   ],
   "source": [
    "import os\n",
    "PATH = 'Desktop'\n",
    "\n",
    "fileCount = 0\n",
    "dirCount = 0\n",
    "\n",
    "for root, dirs, files in os.walk(PATH):\n",
    "    print('Looking in:',root)\n",
    "    for directories in dirs:\n",
    "        dirCount += 1\n",
    "    for Files in files:\n",
    "        fileCount += 1\n",
    "print('Number of files',fileCount)\n",
    "print('Number of Directories',dirCount)\n",
    "print('Total:',(dirCount + fileCount))"
   ]
  }
 ],
 "metadata": {
  "kernelspec": {
   "display_name": "Python 3 (ipykernel)",
   "language": "python",
   "name": "python3"
  },
  "language_info": {
   "codemirror_mode": {
    "name": "ipython",
    "version": 3
   },
   "file_extension": ".py",
   "mimetype": "text/x-python",
   "name": "python",
   "nbconvert_exporter": "python",
   "pygments_lexer": "ipython3",
   "version": "3.9.13"
  }
 },
 "nbformat": 4,
 "nbformat_minor": 5
}
